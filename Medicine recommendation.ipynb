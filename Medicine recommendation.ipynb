{
 "cells": [
  {
   "cell_type": "code",
   "execution_count": 1,
   "id": "07eb4e87",
   "metadata": {},
   "outputs": [],
   "source": [
    "import numpy as np\n",
    "import pandas as pd\n"
   ]
  },
  {
   "cell_type": "code",
   "execution_count": 2,
   "id": "1c9b004b",
   "metadata": {},
   "outputs": [],
   "source": [
    "medicine = pd.read_csv('medicine.csv')"
   ]
  },
  {
   "cell_type": "code",
   "execution_count": 3,
   "id": "a7912679",
   "metadata": {},
   "outputs": [
    {
     "data": {
      "text/html": [
       "<div>\n",
       "<style scoped>\n",
       "    .dataframe tbody tr th:only-of-type {\n",
       "        vertical-align: middle;\n",
       "    }\n",
       "\n",
       "    .dataframe tbody tr th {\n",
       "        vertical-align: top;\n",
       "    }\n",
       "\n",
       "    .dataframe thead th {\n",
       "        text-align: right;\n",
       "    }\n",
       "</style>\n",
       "<table border=\"1\" class=\"dataframe\">\n",
       "  <thead>\n",
       "    <tr style=\"text-align: right;\">\n",
       "      <th></th>\n",
       "      <th>index</th>\n",
       "      <th>Drug_Name</th>\n",
       "      <th>Reason</th>\n",
       "      <th>Description</th>\n",
       "    </tr>\n",
       "  </thead>\n",
       "  <tbody>\n",
       "    <tr>\n",
       "      <th>0</th>\n",
       "      <td>1</td>\n",
       "      <td>A CN Gel(Topical) 20gmA CN Soap 75gm</td>\n",
       "      <td>Acne</td>\n",
       "      <td>Mild to moderate acne (spots)</td>\n",
       "    </tr>\n",
       "    <tr>\n",
       "      <th>1</th>\n",
       "      <td>2</td>\n",
       "      <td>A Ret 0.05% Gel 20gmA Ret 0.1% Gel 20gmA Ret 0...</td>\n",
       "      <td>Acne</td>\n",
       "      <td>A RET 0.025% is a prescription medicine that i...</td>\n",
       "    </tr>\n",
       "    <tr>\n",
       "      <th>2</th>\n",
       "      <td>3</td>\n",
       "      <td>ACGEL CL NANO Gel 15gm</td>\n",
       "      <td>Acne</td>\n",
       "      <td>It is used to treat acne vulgaris in people 12...</td>\n",
       "    </tr>\n",
       "    <tr>\n",
       "      <th>3</th>\n",
       "      <td>4</td>\n",
       "      <td>ACGEL NANO Gel 15gm</td>\n",
       "      <td>Acne</td>\n",
       "      <td>It is used to treat acne vulgaris in people 12...</td>\n",
       "    </tr>\n",
       "    <tr>\n",
       "      <th>4</th>\n",
       "      <td>5</td>\n",
       "      <td>Acleen 1% Lotion 25ml</td>\n",
       "      <td>Acne</td>\n",
       "      <td>treat the most severe form of acne (nodular ac...</td>\n",
       "    </tr>\n",
       "    <tr>\n",
       "      <th>...</th>\n",
       "      <td>...</td>\n",
       "      <td>...</td>\n",
       "      <td>...</td>\n",
       "      <td>...</td>\n",
       "    </tr>\n",
       "    <tr>\n",
       "      <th>95</th>\n",
       "      <td>96</td>\n",
       "      <td>Botanica 3D Serum 30ml</td>\n",
       "      <td>Acne</td>\n",
       "      <td>It is used to treat acne vulgaris in people 12...</td>\n",
       "    </tr>\n",
       "    <tr>\n",
       "      <th>96</th>\n",
       "      <td>97</td>\n",
       "      <td>Brevoxyl Cream 20gm</td>\n",
       "      <td>Acne</td>\n",
       "      <td>treat the most severe form of acne (nodular ac...</td>\n",
       "    </tr>\n",
       "    <tr>\n",
       "      <th>97</th>\n",
       "      <td>98</td>\n",
       "      <td>Brevoxyl Creamy Wash Lotion 50gm</td>\n",
       "      <td>Acne</td>\n",
       "      <td>treat the most severe form of acne (nodular ac...</td>\n",
       "    </tr>\n",
       "    <tr>\n",
       "      <th>98</th>\n",
       "      <td>99</td>\n",
       "      <td>Brite Opti Cream 10gm</td>\n",
       "      <td>Acne</td>\n",
       "      <td>treat the most severe form of acne (nodular ac...</td>\n",
       "    </tr>\n",
       "    <tr>\n",
       "      <th>99</th>\n",
       "      <td>100</td>\n",
       "      <td>Calosoft Plus Cream 30gm</td>\n",
       "      <td>Acne</td>\n",
       "      <td>Â treat acne vulgarisÂ</td>\n",
       "    </tr>\n",
       "  </tbody>\n",
       "</table>\n",
       "<p>100 rows × 4 columns</p>\n",
       "</div>"
      ],
      "text/plain": [
       "    index                                          Drug_Name Reason  \\\n",
       "0       1               A CN Gel(Topical) 20gmA CN Soap 75gm   Acne   \n",
       "1       2  A Ret 0.05% Gel 20gmA Ret 0.1% Gel 20gmA Ret 0...   Acne   \n",
       "2       3                             ACGEL CL NANO Gel 15gm   Acne   \n",
       "3       4                                ACGEL NANO Gel 15gm   Acne   \n",
       "4       5                              Acleen 1% Lotion 25ml   Acne   \n",
       "..    ...                                                ...    ...   \n",
       "95     96                             Botanica 3D Serum 30ml   Acne   \n",
       "96     97                                Brevoxyl Cream 20gm   Acne   \n",
       "97     98                   Brevoxyl Creamy Wash Lotion 50gm   Acne   \n",
       "98     99                              Brite Opti Cream 10gm   Acne   \n",
       "99    100                           Calosoft Plus Cream 30gm   Acne   \n",
       "\n",
       "                                          Description  \n",
       "0                       Mild to moderate acne (spots)  \n",
       "1   A RET 0.025% is a prescription medicine that i...  \n",
       "2   It is used to treat acne vulgaris in people 12...  \n",
       "3   It is used to treat acne vulgaris in people 12...  \n",
       "4   treat the most severe form of acne (nodular ac...  \n",
       "..                                                ...  \n",
       "95  It is used to treat acne vulgaris in people 12...  \n",
       "96  treat the most severe form of acne (nodular ac...  \n",
       "97  treat the most severe form of acne (nodular ac...  \n",
       "98  treat the most severe form of acne (nodular ac...  \n",
       "99                            Â treat acne vulgarisÂ   \n",
       "\n",
       "[100 rows x 4 columns]"
      ]
     },
     "execution_count": 3,
     "metadata": {},
     "output_type": "execute_result"
    }
   ],
   "source": [
    "medicine.head(100)"
   ]
  },
  {
   "cell_type": "code",
   "execution_count": 4,
   "id": "15b0a45a",
   "metadata": {
    "scrolled": true
   },
   "outputs": [
    {
     "data": {
      "text/html": [
       "<div>\n",
       "<style scoped>\n",
       "    .dataframe tbody tr th:only-of-type {\n",
       "        vertical-align: middle;\n",
       "    }\n",
       "\n",
       "    .dataframe tbody tr th {\n",
       "        vertical-align: top;\n",
       "    }\n",
       "\n",
       "    .dataframe thead th {\n",
       "        text-align: right;\n",
       "    }\n",
       "</style>\n",
       "<table border=\"1\" class=\"dataframe\">\n",
       "  <thead>\n",
       "    <tr style=\"text-align: right;\">\n",
       "      <th></th>\n",
       "      <th>index</th>\n",
       "      <th>Drug_Name</th>\n",
       "      <th>Reason</th>\n",
       "      <th>Description</th>\n",
       "    </tr>\n",
       "  </thead>\n",
       "  <tbody>\n",
       "    <tr>\n",
       "      <th>9620</th>\n",
       "      <td>9621</td>\n",
       "      <td>Hydroheal Silwash Solution 60ml</td>\n",
       "      <td>Wound</td>\n",
       "      <td>used to soften the skin cells</td>\n",
       "    </tr>\n",
       "    <tr>\n",
       "      <th>9621</th>\n",
       "      <td>9622</td>\n",
       "      <td>Intadine 5% Oinment 250gmIntadine Solution 500...</td>\n",
       "      <td>Wound</td>\n",
       "      <td>used for scars</td>\n",
       "    </tr>\n",
       "    <tr>\n",
       "      <th>9622</th>\n",
       "      <td>9623</td>\n",
       "      <td>Intadine HS 10% Solution 100ml</td>\n",
       "      <td>Wound</td>\n",
       "      <td>used for wounds</td>\n",
       "    </tr>\n",
       "    <tr>\n",
       "      <th>9623</th>\n",
       "      <td>9624</td>\n",
       "      <td>Iteol 3 Liquid 1000ml</td>\n",
       "      <td>Wound</td>\n",
       "      <td>used to treat and remove raised warts (usually...</td>\n",
       "    </tr>\n",
       "    <tr>\n",
       "      <th>9624</th>\n",
       "      <td>9625</td>\n",
       "      <td>Iteol H Solution 5Ltr</td>\n",
       "      <td>Wound</td>\n",
       "      <td>used for treating warts</td>\n",
       "    </tr>\n",
       "    <tr>\n",
       "      <th>...</th>\n",
       "      <td>...</td>\n",
       "      <td>...</td>\n",
       "      <td>...</td>\n",
       "      <td>...</td>\n",
       "    </tr>\n",
       "    <tr>\n",
       "      <th>9715</th>\n",
       "      <td>9716</td>\n",
       "      <td>T Muce Ointment 5gm</td>\n",
       "      <td>Wound</td>\n",
       "      <td>used for treating warts</td>\n",
       "    </tr>\n",
       "    <tr>\n",
       "      <th>9716</th>\n",
       "      <td>9717</td>\n",
       "      <td>Wokadine 10% Solution 100mlWokadine Solution 5...</td>\n",
       "      <td>Wound</td>\n",
       "      <td>used to soften the skin cells</td>\n",
       "    </tr>\n",
       "    <tr>\n",
       "      <th>9717</th>\n",
       "      <td>9718</td>\n",
       "      <td>Wokadine M Onit 10gm</td>\n",
       "      <td>Wound</td>\n",
       "      <td>used for scars</td>\n",
       "    </tr>\n",
       "    <tr>\n",
       "      <th>9718</th>\n",
       "      <td>9719</td>\n",
       "      <td>Wound Fix Solution 100ml</td>\n",
       "      <td>Wound</td>\n",
       "      <td>used for wounds</td>\n",
       "    </tr>\n",
       "    <tr>\n",
       "      <th>9719</th>\n",
       "      <td>9720</td>\n",
       "      <td>Wounsol Ointment 15gm</td>\n",
       "      <td>Wound</td>\n",
       "      <td>used to treat and remove raised warts (usually...</td>\n",
       "    </tr>\n",
       "  </tbody>\n",
       "</table>\n",
       "<p>100 rows × 4 columns</p>\n",
       "</div>"
      ],
      "text/plain": [
       "      index                                          Drug_Name Reason  \\\n",
       "9620   9621                    Hydroheal Silwash Solution 60ml  Wound   \n",
       "9621   9622  Intadine 5% Oinment 250gmIntadine Solution 500...  Wound   \n",
       "9622   9623                     Intadine HS 10% Solution 100ml  Wound   \n",
       "9623   9624                              Iteol 3 Liquid 1000ml  Wound   \n",
       "9624   9625                              Iteol H Solution 5Ltr  Wound   \n",
       "...     ...                                                ...    ...   \n",
       "9715   9716                                T Muce Ointment 5gm  Wound   \n",
       "9716   9717  Wokadine 10% Solution 100mlWokadine Solution 5...  Wound   \n",
       "9717   9718                               Wokadine M Onit 10gm  Wound   \n",
       "9718   9719                           Wound Fix Solution 100ml  Wound   \n",
       "9719   9720                              Wounsol Ointment 15gm  Wound   \n",
       "\n",
       "                                            Description  \n",
       "9620                      used to soften the skin cells  \n",
       "9621                                     used for scars  \n",
       "9622                                    used for wounds  \n",
       "9623  used to treat and remove raised warts (usually...  \n",
       "9624                            used for treating warts  \n",
       "...                                                 ...  \n",
       "9715                            used for treating warts  \n",
       "9716                      used to soften the skin cells  \n",
       "9717                                     used for scars  \n",
       "9718                                    used for wounds  \n",
       "9719  used to treat and remove raised warts (usually...  \n",
       "\n",
       "[100 rows x 4 columns]"
      ]
     },
     "execution_count": 4,
     "metadata": {},
     "output_type": "execute_result"
    }
   ],
   "source": [
    "medicine.tail(100)"
   ]
  },
  {
   "cell_type": "code",
   "execution_count": 5,
   "id": "944ab7a9",
   "metadata": {},
   "outputs": [
    {
     "data": {
      "text/plain": [
       "(9720, 4)"
      ]
     },
     "execution_count": 5,
     "metadata": {},
     "output_type": "execute_result"
    }
   ],
   "source": [
    "medicine.shape"
   ]
  },
  {
   "cell_type": "code",
   "execution_count": 6,
   "id": "7dd2463a",
   "metadata": {},
   "outputs": [
    {
     "data": {
      "text/plain": [
       "index          0\n",
       "Drug_Name      0\n",
       "Reason         0\n",
       "Description    0\n",
       "dtype: int64"
      ]
     },
     "execution_count": 6,
     "metadata": {},
     "output_type": "execute_result"
    }
   ],
   "source": [
    "medicine.isnull().sum()"
   ]
  },
  {
   "cell_type": "code",
   "execution_count": 7,
   "id": "eff87985",
   "metadata": {},
   "outputs": [],
   "source": [
    "medicine.dropna(inplace=True)"
   ]
  },
  {
   "cell_type": "code",
   "execution_count": 8,
   "id": "0ff827ea",
   "metadata": {},
   "outputs": [
    {
     "data": {
      "text/plain": [
       "0                           Mild to moderate acne (spots)\n",
       "1       A RET 0.025% is a prescription medicine that i...\n",
       "2       It is used to treat acne vulgaris in people 12...\n",
       "3       It is used to treat acne vulgaris in people 12...\n",
       "4       treat the most severe form of acne (nodular ac...\n",
       "                              ...                        \n",
       "9715                              used for treating warts\n",
       "9716                        used to soften the skin cells\n",
       "9717                                       used for scars\n",
       "9718                                      used for wounds\n",
       "9719    used to treat and remove raised warts (usually...\n",
       "Name: Description, Length: 9720, dtype: object"
      ]
     },
     "execution_count": 8,
     "metadata": {},
     "output_type": "execute_result"
    }
   ],
   "source": [
    "medicine['Description']"
   ]
  },
  {
   "cell_type": "code",
   "execution_count": 9,
   "id": "0aa39fba",
   "metadata": {},
   "outputs": [
    {
     "data": {
      "text/plain": [
       "0        Acne\n",
       "1        Acne\n",
       "2        Acne\n",
       "3        Acne\n",
       "4        Acne\n",
       "        ...  \n",
       "9715    Wound\n",
       "9716    Wound\n",
       "9717    Wound\n",
       "9718    Wound\n",
       "9719    Wound\n",
       "Name: Reason, Length: 9720, dtype: object"
      ]
     },
     "execution_count": 9,
     "metadata": {},
     "output_type": "execute_result"
    }
   ],
   "source": [
    "medicine['Reason']"
   ]
  },
  {
   "cell_type": "code",
   "execution_count": 10,
   "id": "c6f2e8e3",
   "metadata": {},
   "outputs": [
    {
     "data": {
      "text/plain": [
       "0                     [Mild, to, moderate, acne, (spots)]\n",
       "1       [A, RET, 0.025%, is, a, prescription, medicine...\n",
       "2       [It, is, used, to, treat, acne, vulgaris, in, ...\n",
       "3       [It, is, used, to, treat, acne, vulgaris, in, ...\n",
       "4       [treat, the, most, severe, form, of, acne, (no...\n",
       "                              ...                        \n",
       "9715                         [used, for, treating, warts]\n",
       "9716                 [used, to, soften, the, skin, cells]\n",
       "9717                                   [used, for, scars]\n",
       "9718                                  [used, for, wounds]\n",
       "9719    [used, to, treat, and, remove, raised, warts, ...\n",
       "Name: Description, Length: 9720, dtype: object"
      ]
     },
     "execution_count": 10,
     "metadata": {},
     "output_type": "execute_result"
    }
   ],
   "source": [
    "medicine['Description'].apply(lambda x:x.split())"
   ]
  },
  {
   "cell_type": "code",
   "execution_count": 11,
   "id": "2f987c2f",
   "metadata": {},
   "outputs": [
    {
     "data": {
      "text/plain": [
       "0        [Acne]\n",
       "1        [Acne]\n",
       "2        [Acne]\n",
       "3        [Acne]\n",
       "4        [Acne]\n",
       "         ...   \n",
       "9715    [Wound]\n",
       "9716    [Wound]\n",
       "9717    [Wound]\n",
       "9718    [Wound]\n",
       "9719    [Wound]\n",
       "Name: Reason, Length: 9720, dtype: object"
      ]
     },
     "execution_count": 11,
     "metadata": {},
     "output_type": "execute_result"
    }
   ],
   "source": [
    "medicine['Reason'].apply(lambda x:x.split())"
   ]
  },
  {
   "cell_type": "code",
   "execution_count": 12,
   "id": "5dd469c7",
   "metadata": {},
   "outputs": [],
   "source": [
    "medicine['Description']=medicine['Description'].apply(lambda x:x.split())\n",
    "medicine['Reason']=medicine['Reason'].apply(lambda x:x.split())"
   ]
  },
  {
   "cell_type": "code",
   "execution_count": 13,
   "id": "e44f04e9",
   "metadata": {},
   "outputs": [],
   "source": [
    "medicine['Description']=medicine['Description'].apply(lambda x:[i.replace(\" \", \"\") for i in x])"
   ]
  },
  {
   "cell_type": "code",
   "execution_count": 14,
   "id": "0f707c46",
   "metadata": {},
   "outputs": [],
   "source": [
    "medicine['tags']=medicine['Description']+medicine['Reason']"
   ]
  },
  {
   "cell_type": "code",
   "execution_count": 15,
   "id": "f6e35933",
   "metadata": {},
   "outputs": [],
   "source": [
    "df=medicine[['index', 'Drug_Name', 'tags']]\n"
   ]
  },
  {
   "cell_type": "code",
   "execution_count": 16,
   "id": "fa89c1eb",
   "metadata": {},
   "outputs": [
    {
     "data": {
      "text/html": [
       "<div>\n",
       "<style scoped>\n",
       "    .dataframe tbody tr th:only-of-type {\n",
       "        vertical-align: middle;\n",
       "    }\n",
       "\n",
       "    .dataframe tbody tr th {\n",
       "        vertical-align: top;\n",
       "    }\n",
       "\n",
       "    .dataframe thead th {\n",
       "        text-align: right;\n",
       "    }\n",
       "</style>\n",
       "<table border=\"1\" class=\"dataframe\">\n",
       "  <thead>\n",
       "    <tr style=\"text-align: right;\">\n",
       "      <th></th>\n",
       "      <th>index</th>\n",
       "      <th>Drug_Name</th>\n",
       "      <th>tags</th>\n",
       "    </tr>\n",
       "  </thead>\n",
       "  <tbody>\n",
       "    <tr>\n",
       "      <th>0</th>\n",
       "      <td>1</td>\n",
       "      <td>A CN Gel(Topical) 20gmA CN Soap 75gm</td>\n",
       "      <td>[Mild, to, moderate, acne, (spots), Acne]</td>\n",
       "    </tr>\n",
       "    <tr>\n",
       "      <th>1</th>\n",
       "      <td>2</td>\n",
       "      <td>A Ret 0.05% Gel 20gmA Ret 0.1% Gel 20gmA Ret 0...</td>\n",
       "      <td>[A, RET, 0.025%, is, a, prescription, medicine...</td>\n",
       "    </tr>\n",
       "    <tr>\n",
       "      <th>2</th>\n",
       "      <td>3</td>\n",
       "      <td>ACGEL CL NANO Gel 15gm</td>\n",
       "      <td>[It, is, used, to, treat, acne, vulgaris, in, ...</td>\n",
       "    </tr>\n",
       "    <tr>\n",
       "      <th>3</th>\n",
       "      <td>4</td>\n",
       "      <td>ACGEL NANO Gel 15gm</td>\n",
       "      <td>[It, is, used, to, treat, acne, vulgaris, in, ...</td>\n",
       "    </tr>\n",
       "    <tr>\n",
       "      <th>4</th>\n",
       "      <td>5</td>\n",
       "      <td>Acleen 1% Lotion 25ml</td>\n",
       "      <td>[treat, the, most, severe, form, of, acne, (no...</td>\n",
       "    </tr>\n",
       "    <tr>\n",
       "      <th>...</th>\n",
       "      <td>...</td>\n",
       "      <td>...</td>\n",
       "      <td>...</td>\n",
       "    </tr>\n",
       "    <tr>\n",
       "      <th>9715</th>\n",
       "      <td>9716</td>\n",
       "      <td>T Muce Ointment 5gm</td>\n",
       "      <td>[used, for, treating, warts, Wound]</td>\n",
       "    </tr>\n",
       "    <tr>\n",
       "      <th>9716</th>\n",
       "      <td>9717</td>\n",
       "      <td>Wokadine 10% Solution 100mlWokadine Solution 5...</td>\n",
       "      <td>[used, to, soften, the, skin, cells, Wound]</td>\n",
       "    </tr>\n",
       "    <tr>\n",
       "      <th>9717</th>\n",
       "      <td>9718</td>\n",
       "      <td>Wokadine M Onit 10gm</td>\n",
       "      <td>[used, for, scars, Wound]</td>\n",
       "    </tr>\n",
       "    <tr>\n",
       "      <th>9718</th>\n",
       "      <td>9719</td>\n",
       "      <td>Wound Fix Solution 100ml</td>\n",
       "      <td>[used, for, wounds, Wound]</td>\n",
       "    </tr>\n",
       "    <tr>\n",
       "      <th>9719</th>\n",
       "      <td>9720</td>\n",
       "      <td>Wounsol Ointment 15gm</td>\n",
       "      <td>[used, to, treat, and, remove, raised, warts, ...</td>\n",
       "    </tr>\n",
       "  </tbody>\n",
       "</table>\n",
       "<p>9720 rows × 3 columns</p>\n",
       "</div>"
      ],
      "text/plain": [
       "      index                                          Drug_Name  \\\n",
       "0         1               A CN Gel(Topical) 20gmA CN Soap 75gm   \n",
       "1         2  A Ret 0.05% Gel 20gmA Ret 0.1% Gel 20gmA Ret 0...   \n",
       "2         3                             ACGEL CL NANO Gel 15gm   \n",
       "3         4                                ACGEL NANO Gel 15gm   \n",
       "4         5                              Acleen 1% Lotion 25ml   \n",
       "...     ...                                                ...   \n",
       "9715   9716                                T Muce Ointment 5gm   \n",
       "9716   9717  Wokadine 10% Solution 100mlWokadine Solution 5...   \n",
       "9717   9718                               Wokadine M Onit 10gm   \n",
       "9718   9719                           Wound Fix Solution 100ml   \n",
       "9719   9720                              Wounsol Ointment 15gm   \n",
       "\n",
       "                                                   tags  \n",
       "0             [Mild, to, moderate, acne, (spots), Acne]  \n",
       "1     [A, RET, 0.025%, is, a, prescription, medicine...  \n",
       "2     [It, is, used, to, treat, acne, vulgaris, in, ...  \n",
       "3     [It, is, used, to, treat, acne, vulgaris, in, ...  \n",
       "4     [treat, the, most, severe, form, of, acne, (no...  \n",
       "...                                                 ...  \n",
       "9715                [used, for, treating, warts, Wound]  \n",
       "9716        [used, to, soften, the, skin, cells, Wound]  \n",
       "9717                          [used, for, scars, Wound]  \n",
       "9718                         [used, for, wounds, Wound]  \n",
       "9719  [used, to, treat, and, remove, raised, warts, ...  \n",
       "\n",
       "[9720 rows x 3 columns]"
      ]
     },
     "execution_count": 16,
     "metadata": {},
     "output_type": "execute_result"
    }
   ],
   "source": [
    "df"
   ]
  },
  {
   "cell_type": "code",
   "execution_count": 17,
   "id": "02c2bf23",
   "metadata": {},
   "outputs": [
    {
     "data": {
      "text/plain": [
       "0                      Mild to moderate acne (spots) Acne\n",
       "1       A RET 0.025% is a prescription medicine that i...\n",
       "2       It is used to treat acne vulgaris in people 12...\n",
       "3       It is used to treat acne vulgaris in people 12...\n",
       "4       treat the most severe form of acne (nodular ac...\n",
       "                              ...                        \n",
       "9715                        used for treating warts Wound\n",
       "9716                  used to soften the skin cells Wound\n",
       "9717                                 used for scars Wound\n",
       "9718                                used for wounds Wound\n",
       "9719    used to treat and remove raised warts (usually...\n",
       "Name: tags, Length: 9720, dtype: object"
      ]
     },
     "execution_count": 17,
     "metadata": {},
     "output_type": "execute_result"
    }
   ],
   "source": [
    "df['tags'].apply(lambda x:\" \".join(x))\n"
   ]
  },
  {
   "cell_type": "code",
   "execution_count": 18,
   "id": "d8aa0080",
   "metadata": {},
   "outputs": [
    {
     "name": "stderr",
     "output_type": "stream",
     "text": [
      "C:\\Users\\rskma\\AppData\\Local\\Temp\\ipykernel_21272\\2493417758.py:1: SettingWithCopyWarning: \n",
      "A value is trying to be set on a copy of a slice from a DataFrame.\n",
      "Try using .loc[row_indexer,col_indexer] = value instead\n",
      "\n",
      "See the caveats in the documentation: https://pandas.pydata.org/pandas-docs/stable/user_guide/indexing.html#returning-a-view-versus-a-copy\n",
      "  df['tags']=df['tags'].apply(lambda x:\" \".join(x))\n"
     ]
    }
   ],
   "source": [
    "df['tags']=df['tags'].apply(lambda x:\" \".join(x))"
   ]
  },
  {
   "cell_type": "code",
   "execution_count": 19,
   "id": "cccf3d1a",
   "metadata": {},
   "outputs": [
    {
     "data": {
      "text/html": [
       "<div>\n",
       "<style scoped>\n",
       "    .dataframe tbody tr th:only-of-type {\n",
       "        vertical-align: middle;\n",
       "    }\n",
       "\n",
       "    .dataframe tbody tr th {\n",
       "        vertical-align: top;\n",
       "    }\n",
       "\n",
       "    .dataframe thead th {\n",
       "        text-align: right;\n",
       "    }\n",
       "</style>\n",
       "<table border=\"1\" class=\"dataframe\">\n",
       "  <thead>\n",
       "    <tr style=\"text-align: right;\">\n",
       "      <th></th>\n",
       "      <th>index</th>\n",
       "      <th>Drug_Name</th>\n",
       "      <th>tags</th>\n",
       "    </tr>\n",
       "  </thead>\n",
       "  <tbody>\n",
       "    <tr>\n",
       "      <th>0</th>\n",
       "      <td>1</td>\n",
       "      <td>A CN Gel(Topical) 20gmA CN Soap 75gm</td>\n",
       "      <td>Mild to moderate acne (spots) Acne</td>\n",
       "    </tr>\n",
       "    <tr>\n",
       "      <th>1</th>\n",
       "      <td>2</td>\n",
       "      <td>A Ret 0.05% Gel 20gmA Ret 0.1% Gel 20gmA Ret 0...</td>\n",
       "      <td>A RET 0.025% is a prescription medicine that i...</td>\n",
       "    </tr>\n",
       "    <tr>\n",
       "      <th>2</th>\n",
       "      <td>3</td>\n",
       "      <td>ACGEL CL NANO Gel 15gm</td>\n",
       "      <td>It is used to treat acne vulgaris in people 12...</td>\n",
       "    </tr>\n",
       "    <tr>\n",
       "      <th>3</th>\n",
       "      <td>4</td>\n",
       "      <td>ACGEL NANO Gel 15gm</td>\n",
       "      <td>It is used to treat acne vulgaris in people 12...</td>\n",
       "    </tr>\n",
       "    <tr>\n",
       "      <th>4</th>\n",
       "      <td>5</td>\n",
       "      <td>Acleen 1% Lotion 25ml</td>\n",
       "      <td>treat the most severe form of acne (nodular ac...</td>\n",
       "    </tr>\n",
       "    <tr>\n",
       "      <th>...</th>\n",
       "      <td>...</td>\n",
       "      <td>...</td>\n",
       "      <td>...</td>\n",
       "    </tr>\n",
       "    <tr>\n",
       "      <th>9715</th>\n",
       "      <td>9716</td>\n",
       "      <td>T Muce Ointment 5gm</td>\n",
       "      <td>used for treating warts Wound</td>\n",
       "    </tr>\n",
       "    <tr>\n",
       "      <th>9716</th>\n",
       "      <td>9717</td>\n",
       "      <td>Wokadine 10% Solution 100mlWokadine Solution 5...</td>\n",
       "      <td>used to soften the skin cells Wound</td>\n",
       "    </tr>\n",
       "    <tr>\n",
       "      <th>9717</th>\n",
       "      <td>9718</td>\n",
       "      <td>Wokadine M Onit 10gm</td>\n",
       "      <td>used for scars Wound</td>\n",
       "    </tr>\n",
       "    <tr>\n",
       "      <th>9718</th>\n",
       "      <td>9719</td>\n",
       "      <td>Wound Fix Solution 100ml</td>\n",
       "      <td>used for wounds Wound</td>\n",
       "    </tr>\n",
       "    <tr>\n",
       "      <th>9719</th>\n",
       "      <td>9720</td>\n",
       "      <td>Wounsol Ointment 15gm</td>\n",
       "      <td>used to treat and remove raised warts (usually...</td>\n",
       "    </tr>\n",
       "  </tbody>\n",
       "</table>\n",
       "<p>9720 rows × 3 columns</p>\n",
       "</div>"
      ],
      "text/plain": [
       "      index                                          Drug_Name  \\\n",
       "0         1               A CN Gel(Topical) 20gmA CN Soap 75gm   \n",
       "1         2  A Ret 0.05% Gel 20gmA Ret 0.1% Gel 20gmA Ret 0...   \n",
       "2         3                             ACGEL CL NANO Gel 15gm   \n",
       "3         4                                ACGEL NANO Gel 15gm   \n",
       "4         5                              Acleen 1% Lotion 25ml   \n",
       "...     ...                                                ...   \n",
       "9715   9716                                T Muce Ointment 5gm   \n",
       "9716   9717  Wokadine 10% Solution 100mlWokadine Solution 5...   \n",
       "9717   9718                               Wokadine M Onit 10gm   \n",
       "9718   9719                           Wound Fix Solution 100ml   \n",
       "9719   9720                              Wounsol Ointment 15gm   \n",
       "\n",
       "                                                   tags  \n",
       "0                    Mild to moderate acne (spots) Acne  \n",
       "1     A RET 0.025% is a prescription medicine that i...  \n",
       "2     It is used to treat acne vulgaris in people 12...  \n",
       "3     It is used to treat acne vulgaris in people 12...  \n",
       "4     treat the most severe form of acne (nodular ac...  \n",
       "...                                                 ...  \n",
       "9715                      used for treating warts Wound  \n",
       "9716                used to soften the skin cells Wound  \n",
       "9717                               used for scars Wound  \n",
       "9718                              used for wounds Wound  \n",
       "9719  used to treat and remove raised warts (usually...  \n",
       "\n",
       "[9720 rows x 3 columns]"
      ]
     },
     "execution_count": 19,
     "metadata": {},
     "output_type": "execute_result"
    }
   ],
   "source": [
    "df"
   ]
  },
  {
   "cell_type": "code",
   "execution_count": 20,
   "id": "e4771238",
   "metadata": {},
   "outputs": [
    {
     "name": "stderr",
     "output_type": "stream",
     "text": [
      "C:\\Users\\rskma\\AppData\\Local\\Temp\\ipykernel_21272\\841579467.py:1: SettingWithCopyWarning: \n",
      "A value is trying to be set on a copy of a slice from a DataFrame.\n",
      "Try using .loc[row_indexer,col_indexer] = value instead\n",
      "\n",
      "See the caveats in the documentation: https://pandas.pydata.org/pandas-docs/stable/user_guide/indexing.html#returning-a-view-versus-a-copy\n",
      "  df['tags'] = df['tags'].apply(lambda x:x.lower())\n"
     ]
    }
   ],
   "source": [
    "df['tags'] = df['tags'].apply(lambda x:x.lower())"
   ]
  },
  {
   "cell_type": "code",
   "execution_count": 21,
   "id": "344a6d25",
   "metadata": {},
   "outputs": [
    {
     "data": {
      "text/html": [
       "<div>\n",
       "<style scoped>\n",
       "    .dataframe tbody tr th:only-of-type {\n",
       "        vertical-align: middle;\n",
       "    }\n",
       "\n",
       "    .dataframe tbody tr th {\n",
       "        vertical-align: top;\n",
       "    }\n",
       "\n",
       "    .dataframe thead th {\n",
       "        text-align: right;\n",
       "    }\n",
       "</style>\n",
       "<table border=\"1\" class=\"dataframe\">\n",
       "  <thead>\n",
       "    <tr style=\"text-align: right;\">\n",
       "      <th></th>\n",
       "      <th>index</th>\n",
       "      <th>Drug_Name</th>\n",
       "      <th>tags</th>\n",
       "    </tr>\n",
       "  </thead>\n",
       "  <tbody>\n",
       "    <tr>\n",
       "      <th>0</th>\n",
       "      <td>1</td>\n",
       "      <td>A CN Gel(Topical) 20gmA CN Soap 75gm</td>\n",
       "      <td>mild to moderate acne (spots) acne</td>\n",
       "    </tr>\n",
       "    <tr>\n",
       "      <th>1</th>\n",
       "      <td>2</td>\n",
       "      <td>A Ret 0.05% Gel 20gmA Ret 0.1% Gel 20gmA Ret 0...</td>\n",
       "      <td>a ret 0.025% is a prescription medicine that i...</td>\n",
       "    </tr>\n",
       "    <tr>\n",
       "      <th>2</th>\n",
       "      <td>3</td>\n",
       "      <td>ACGEL CL NANO Gel 15gm</td>\n",
       "      <td>it is used to treat acne vulgaris in people 12...</td>\n",
       "    </tr>\n",
       "    <tr>\n",
       "      <th>3</th>\n",
       "      <td>4</td>\n",
       "      <td>ACGEL NANO Gel 15gm</td>\n",
       "      <td>it is used to treat acne vulgaris in people 12...</td>\n",
       "    </tr>\n",
       "    <tr>\n",
       "      <th>4</th>\n",
       "      <td>5</td>\n",
       "      <td>Acleen 1% Lotion 25ml</td>\n",
       "      <td>treat the most severe form of acne (nodular ac...</td>\n",
       "    </tr>\n",
       "    <tr>\n",
       "      <th>...</th>\n",
       "      <td>...</td>\n",
       "      <td>...</td>\n",
       "      <td>...</td>\n",
       "    </tr>\n",
       "    <tr>\n",
       "      <th>9715</th>\n",
       "      <td>9716</td>\n",
       "      <td>T Muce Ointment 5gm</td>\n",
       "      <td>used for treating warts wound</td>\n",
       "    </tr>\n",
       "    <tr>\n",
       "      <th>9716</th>\n",
       "      <td>9717</td>\n",
       "      <td>Wokadine 10% Solution 100mlWokadine Solution 5...</td>\n",
       "      <td>used to soften the skin cells wound</td>\n",
       "    </tr>\n",
       "    <tr>\n",
       "      <th>9717</th>\n",
       "      <td>9718</td>\n",
       "      <td>Wokadine M Onit 10gm</td>\n",
       "      <td>used for scars wound</td>\n",
       "    </tr>\n",
       "    <tr>\n",
       "      <th>9718</th>\n",
       "      <td>9719</td>\n",
       "      <td>Wound Fix Solution 100ml</td>\n",
       "      <td>used for wounds wound</td>\n",
       "    </tr>\n",
       "    <tr>\n",
       "      <th>9719</th>\n",
       "      <td>9720</td>\n",
       "      <td>Wounsol Ointment 15gm</td>\n",
       "      <td>used to treat and remove raised warts (usually...</td>\n",
       "    </tr>\n",
       "  </tbody>\n",
       "</table>\n",
       "<p>9720 rows × 3 columns</p>\n",
       "</div>"
      ],
      "text/plain": [
       "      index                                          Drug_Name  \\\n",
       "0         1               A CN Gel(Topical) 20gmA CN Soap 75gm   \n",
       "1         2  A Ret 0.05% Gel 20gmA Ret 0.1% Gel 20gmA Ret 0...   \n",
       "2         3                             ACGEL CL NANO Gel 15gm   \n",
       "3         4                                ACGEL NANO Gel 15gm   \n",
       "4         5                              Acleen 1% Lotion 25ml   \n",
       "...     ...                                                ...   \n",
       "9715   9716                                T Muce Ointment 5gm   \n",
       "9716   9717  Wokadine 10% Solution 100mlWokadine Solution 5...   \n",
       "9717   9718                               Wokadine M Onit 10gm   \n",
       "9718   9719                           Wound Fix Solution 100ml   \n",
       "9719   9720                              Wounsol Ointment 15gm   \n",
       "\n",
       "                                                   tags  \n",
       "0                    mild to moderate acne (spots) acne  \n",
       "1     a ret 0.025% is a prescription medicine that i...  \n",
       "2     it is used to treat acne vulgaris in people 12...  \n",
       "3     it is used to treat acne vulgaris in people 12...  \n",
       "4     treat the most severe form of acne (nodular ac...  \n",
       "...                                                 ...  \n",
       "9715                      used for treating warts wound  \n",
       "9716                used to soften the skin cells wound  \n",
       "9717                               used for scars wound  \n",
       "9718                              used for wounds wound  \n",
       "9719  used to treat and remove raised warts (usually...  \n",
       "\n",
       "[9720 rows x 3 columns]"
      ]
     },
     "execution_count": 21,
     "metadata": {},
     "output_type": "execute_result"
    }
   ],
   "source": [
    "df"
   ]
  },
  {
   "cell_type": "code",
   "execution_count": 22,
   "id": "ad00dcfa",
   "metadata": {},
   "outputs": [],
   "source": [
    "import nltk\n",
    "from nltk.stem.porter import PorterStemmer\n",
    "\n",
    "ps=PorterStemmer()"
   ]
  },
  {
   "cell_type": "code",
   "execution_count": 23,
   "id": "aa844518",
   "metadata": {},
   "outputs": [],
   "source": [
    "from sklearn.feature_extraction.text import CountVectorizer\n",
    "cv = CountVectorizer(stop_words='english',max_features=5000)"
   ]
  },
  {
   "cell_type": "code",
   "execution_count": 24,
   "id": "027ae1d2",
   "metadata": {},
   "outputs": [],
   "source": [
    "def stem(text):\n",
    "  y = []\n",
    "\n",
    "  for i in text.split():\n",
    "    y.append(ps.stem(i))\n",
    "\n",
    "  return \" \".join(y)  "
   ]
  },
  {
   "cell_type": "code",
   "execution_count": 25,
   "id": "b37ee779",
   "metadata": {},
   "outputs": [
    {
     "name": "stderr",
     "output_type": "stream",
     "text": [
      "C:\\Users\\rskma\\AppData\\Local\\Temp\\ipykernel_21272\\4230616273.py:1: SettingWithCopyWarning: \n",
      "A value is trying to be set on a copy of a slice from a DataFrame.\n",
      "Try using .loc[row_indexer,col_indexer] = value instead\n",
      "\n",
      "See the caveats in the documentation: https://pandas.pydata.org/pandas-docs/stable/user_guide/indexing.html#returning-a-view-versus-a-copy\n",
      "  df['tags']=df['tags'].apply(stem)\n"
     ]
    }
   ],
   "source": [
    "df['tags']=df['tags'].apply(stem)"
   ]
  },
  {
   "cell_type": "code",
   "execution_count": 26,
   "id": "0444eb96",
   "metadata": {},
   "outputs": [
    {
     "data": {
      "text/plain": [
       "(9720, 806)"
      ]
     },
     "execution_count": 26,
     "metadata": {},
     "output_type": "execute_result"
    }
   ],
   "source": [
    "cv.fit_transform(df['tags']).toarray().shape"
   ]
  },
  {
   "cell_type": "code",
   "execution_count": 27,
   "id": "2e5da22a",
   "metadata": {},
   "outputs": [],
   "source": [
    "vectors = cv.fit_transform(df['tags']).toarray()"
   ]
  },
  {
   "cell_type": "code",
   "execution_count": 28,
   "id": "86f9cd6d",
   "metadata": {},
   "outputs": [],
   "source": [
    "from sklearn.metrics.pairwise import cosine_similarity"
   ]
  },
  {
   "cell_type": "code",
   "execution_count": 29,
   "id": "89c5087b",
   "metadata": {},
   "outputs": [
    {
     "data": {
      "text/plain": [
       "array([[1.        , 0.25197632, 0.43643578, ..., 0.        , 0.        ,\n",
       "        0.        ],\n",
       "       [0.25197632, 1.        , 0.25660012, ..., 0.19245009, 0.1490712 ,\n",
       "        0.0860663 ],\n",
       "       [0.43643578, 0.25660012, 1.        , ..., 0.11111111, 0.0860663 ,\n",
       "        0.0993808 ],\n",
       "       ...,\n",
       "       [0.        , 0.19245009, 0.11111111, ..., 1.        , 0.77459667,\n",
       "        0.2981424 ],\n",
       "       [0.        , 0.1490712 , 0.0860663 , ..., 0.77459667, 1.        ,\n",
       "        0.34641016],\n",
       "       [0.        , 0.0860663 , 0.0993808 , ..., 0.2981424 , 0.34641016,\n",
       "        1.        ]])"
      ]
     },
     "execution_count": 29,
     "metadata": {},
     "output_type": "execute_result"
    }
   ],
   "source": [
    "cosine_similarity(vectors)"
   ]
  },
  {
   "cell_type": "code",
   "execution_count": 30,
   "id": "10800481",
   "metadata": {},
   "outputs": [],
   "source": [
    "similarity = cosine_similarity(vectors)"
   ]
  },
  {
   "cell_type": "code",
   "execution_count": 31,
   "id": "f645bb94",
   "metadata": {},
   "outputs": [],
   "source": [
    "def recommend(medicine):\n",
    "    medicine_index = df[df['Drug_Name'] == medicine].index[0]\n",
    "    distances = similarity[medicine_index]\n",
    "    medicines_list = sorted(list(enumerate(distances)),reverse=True,key=lambda x:x[1])[1:6]\n",
    "    \n",
    "    for i in medicines_list:\n",
    "        print(df.iloc[i[0]].Drug_Name)"
   ]
  },
  {
   "cell_type": "code",
   "execution_count": 32,
   "id": "1c093818",
   "metadata": {},
   "outputs": [
    {
     "name": "stdout",
     "output_type": "stream",
     "text": [
      "Acnedap Gel 15gm\n",
      "Acnetoin 20mg Capsule 10'SAcnetoin Gel 15gm\n",
      "Acnin Pimple Care Face Pack 50gm\n",
      "Adapnil Gel 15gm\n",
      "Alene Gel 15gm\n"
     ]
    }
   ],
   "source": [
    "recommend(\"A CN Gel(Topical) 20gmA CN Soap 75gm\")"
   ]
  },
  {
   "cell_type": "code",
   "execution_count": null,
   "id": "a3971ce3",
   "metadata": {},
   "outputs": [],
   "source": []
  }
 ],
 "metadata": {
  "kernelspec": {
   "display_name": "Python 3 (ipykernel)",
   "language": "python",
   "name": "python3"
  },
  "language_info": {
   "codemirror_mode": {
    "name": "ipython",
    "version": 3
   },
   "file_extension": ".py",
   "mimetype": "text/x-python",
   "name": "python",
   "nbconvert_exporter": "python",
   "pygments_lexer": "ipython3",
   "version": "3.10.7"
  }
 },
 "nbformat": 4,
 "nbformat_minor": 5
}
